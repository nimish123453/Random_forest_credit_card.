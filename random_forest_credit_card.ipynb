{
  "cells": [
    {
      "cell_type": "code",
      "execution_count": null,
      "metadata": {
        "id": "VlAp6BIqwt1p"
      },
      "outputs": [],
      "source": [
        "import pandas as pd\n",
        "import numpy as np\n",
        "import matplotlib.pyplot as plt\n",
        "import seaborn as sns\n",
        "\n",
        "from sklearn.model_selection import train_test_split\n",
        "from sklearn.preprocessing import OneHotEncoder\n",
        "from sklearn.model_selection import GridSearchCV\n",
        "from sklearn.model_selection import RandomizedSearchCV\n",
        "from sklearn.model_selection import train_test_split\n",
        "from sklearn import ensemble"
      ]
    },
    {
      "cell_type": "code",
      "execution_count": null,
      "metadata": {
        "id": "NzaVPlbIw4tT"
      },
      "outputs": [],
      "source": [
        "data = pd.read_csv(\"/content/creditcardnew.csv\")"
      ]
    },
    {
      "cell_type": "code",
      "execution_count": null,
      "metadata": {
        "colab": {
          "base_uri": "https://localhost:8080/",
          "height": 255
        },
        "id": "doh0vCwNxm_O",
        "outputId": "45a10586-8667-4bea-a19d-1dbf09f64da9"
      },
      "outputs": [
        {
          "data": {
            "text/html": [
              "\n",
              "  <div id=\"df-4d0b0758-1037-4787-8c78-76877487135e\" class=\"colab-df-container\">\n",
              "    <div>\n",
              "<style scoped>\n",
              "    .dataframe tbody tr th:only-of-type {\n",
              "        vertical-align: middle;\n",
              "    }\n",
              "\n",
              "    .dataframe tbody tr th {\n",
              "        vertical-align: top;\n",
              "    }\n",
              "\n",
              "    .dataframe thead th {\n",
              "        text-align: right;\n",
              "    }\n",
              "</style>\n",
              "<table border=\"1\" class=\"dataframe\">\n",
              "  <thead>\n",
              "    <tr style=\"text-align: right;\">\n",
              "      <th></th>\n",
              "      <th>V1</th>\n",
              "      <th>V2</th>\n",
              "      <th>V3</th>\n",
              "      <th>V4</th>\n",
              "      <th>V5</th>\n",
              "      <th>V6</th>\n",
              "      <th>V7</th>\n",
              "      <th>V8</th>\n",
              "      <th>V9</th>\n",
              "      <th>V10</th>\n",
              "      <th>...</th>\n",
              "      <th>V21</th>\n",
              "      <th>V22</th>\n",
              "      <th>V23</th>\n",
              "      <th>V24</th>\n",
              "      <th>V25</th>\n",
              "      <th>V26</th>\n",
              "      <th>V27</th>\n",
              "      <th>V28</th>\n",
              "      <th>V29</th>\n",
              "      <th>Target</th>\n",
              "    </tr>\n",
              "  </thead>\n",
              "  <tbody>\n",
              "    <tr>\n",
              "      <th>0</th>\n",
              "      <td>0.114697</td>\n",
              "      <td>0.796303</td>\n",
              "      <td>-0.149553</td>\n",
              "      <td>-0.823011</td>\n",
              "      <td>0.878763</td>\n",
              "      <td>-0.553152</td>\n",
              "      <td>0.939259</td>\n",
              "      <td>-0.108502</td>\n",
              "      <td>0.111137</td>\n",
              "      <td>-0.390521</td>\n",
              "      <td>...</td>\n",
              "      <td>-0.335776</td>\n",
              "      <td>-0.807853</td>\n",
              "      <td>-0.055940</td>\n",
              "      <td>-1.025281</td>\n",
              "      <td>-0.369557</td>\n",
              "      <td>0.204653</td>\n",
              "      <td>0.242724</td>\n",
              "      <td>0.085713</td>\n",
              "      <td>0.89</td>\n",
              "      <td>0</td>\n",
              "    </tr>\n",
              "    <tr>\n",
              "      <th>1</th>\n",
              "      <td>-0.039318</td>\n",
              "      <td>0.495784</td>\n",
              "      <td>-0.810884</td>\n",
              "      <td>0.546693</td>\n",
              "      <td>1.986257</td>\n",
              "      <td>4.386342</td>\n",
              "      <td>-1.344891</td>\n",
              "      <td>-1.743736</td>\n",
              "      <td>-0.563103</td>\n",
              "      <td>-0.616315</td>\n",
              "      <td>...</td>\n",
              "      <td>-1.377003</td>\n",
              "      <td>-0.072200</td>\n",
              "      <td>-0.197573</td>\n",
              "      <td>1.014807</td>\n",
              "      <td>1.011293</td>\n",
              "      <td>-0.167684</td>\n",
              "      <td>0.113136</td>\n",
              "      <td>0.256836</td>\n",
              "      <td>85.00</td>\n",
              "      <td>0</td>\n",
              "    </tr>\n",
              "    <tr>\n",
              "      <th>2</th>\n",
              "      <td>2.275706</td>\n",
              "      <td>-1.531508</td>\n",
              "      <td>-1.021969</td>\n",
              "      <td>-1.602152</td>\n",
              "      <td>-1.220329</td>\n",
              "      <td>-0.462376</td>\n",
              "      <td>-1.196485</td>\n",
              "      <td>-0.147058</td>\n",
              "      <td>-0.950224</td>\n",
              "      <td>1.560463</td>\n",
              "      <td>...</td>\n",
              "      <td>-0.193271</td>\n",
              "      <td>-0.103533</td>\n",
              "      <td>0.150945</td>\n",
              "      <td>-0.811083</td>\n",
              "      <td>-0.197913</td>\n",
              "      <td>-0.128446</td>\n",
              "      <td>0.014197</td>\n",
              "      <td>-0.051289</td>\n",
              "      <td>42.70</td>\n",
              "      <td>0</td>\n",
              "    </tr>\n",
              "    <tr>\n",
              "      <th>3</th>\n",
              "      <td>1.940137</td>\n",
              "      <td>-0.357671</td>\n",
              "      <td>-1.210551</td>\n",
              "      <td>0.382523</td>\n",
              "      <td>0.050823</td>\n",
              "      <td>-0.171322</td>\n",
              "      <td>-0.109124</td>\n",
              "      <td>-0.002115</td>\n",
              "      <td>0.869258</td>\n",
              "      <td>-0.001965</td>\n",
              "      <td>...</td>\n",
              "      <td>0.157994</td>\n",
              "      <td>0.650355</td>\n",
              "      <td>0.034206</td>\n",
              "      <td>0.739535</td>\n",
              "      <td>0.223605</td>\n",
              "      <td>-0.195509</td>\n",
              "      <td>-0.012791</td>\n",
              "      <td>-0.056841</td>\n",
              "      <td>29.99</td>\n",
              "      <td>0</td>\n",
              "    </tr>\n",
              "    <tr>\n",
              "      <th>4</th>\n",
              "      <td>1.081395</td>\n",
              "      <td>-0.502615</td>\n",
              "      <td>1.075887</td>\n",
              "      <td>-0.543359</td>\n",
              "      <td>-1.472946</td>\n",
              "      <td>-1.065484</td>\n",
              "      <td>-0.443231</td>\n",
              "      <td>-0.143374</td>\n",
              "      <td>1.659826</td>\n",
              "      <td>-1.131238</td>\n",
              "      <td>...</td>\n",
              "      <td>0.224157</td>\n",
              "      <td>0.821209</td>\n",
              "      <td>-0.137223</td>\n",
              "      <td>0.986259</td>\n",
              "      <td>0.563228</td>\n",
              "      <td>-0.574206</td>\n",
              "      <td>0.089673</td>\n",
              "      <td>0.052036</td>\n",
              "      <td>68.00</td>\n",
              "      <td>0</td>\n",
              "    </tr>\n",
              "  </tbody>\n",
              "</table>\n",
              "<p>5 rows × 30 columns</p>\n",
              "</div>\n",
              "    <div class=\"colab-df-buttons\">\n",
              "\n",
              "  <div class=\"colab-df-container\">\n",
              "    <button class=\"colab-df-convert\" onclick=\"convertToInteractive('df-4d0b0758-1037-4787-8c78-76877487135e')\"\n",
              "            title=\"Convert this dataframe to an interactive table.\"\n",
              "            style=\"display:none;\">\n",
              "\n",
              "  <svg xmlns=\"http://www.w3.org/2000/svg\" height=\"24px\" viewBox=\"0 -960 960 960\">\n",
              "    <path d=\"M120-120v-720h720v720H120Zm60-500h600v-160H180v160Zm220 220h160v-160H400v160Zm0 220h160v-160H400v160ZM180-400h160v-160H180v160Zm440 0h160v-160H620v160ZM180-180h160v-160H180v160Zm440 0h160v-160H620v160Z\"/>\n",
              "  </svg>\n",
              "    </button>\n",
              "\n",
              "  <style>\n",
              "    .colab-df-container {\n",
              "      display:flex;\n",
              "      gap: 12px;\n",
              "    }\n",
              "\n",
              "    .colab-df-convert {\n",
              "      background-color: #E8F0FE;\n",
              "      border: none;\n",
              "      border-radius: 50%;\n",
              "      cursor: pointer;\n",
              "      display: none;\n",
              "      fill: #1967D2;\n",
              "      height: 32px;\n",
              "      padding: 0 0 0 0;\n",
              "      width: 32px;\n",
              "    }\n",
              "\n",
              "    .colab-df-convert:hover {\n",
              "      background-color: #E2EBFA;\n",
              "      box-shadow: 0px 1px 2px rgba(60, 64, 67, 0.3), 0px 1px 3px 1px rgba(60, 64, 67, 0.15);\n",
              "      fill: #174EA6;\n",
              "    }\n",
              "\n",
              "    .colab-df-buttons div {\n",
              "      margin-bottom: 4px;\n",
              "    }\n",
              "\n",
              "    [theme=dark] .colab-df-convert {\n",
              "      background-color: #3B4455;\n",
              "      fill: #D2E3FC;\n",
              "    }\n",
              "\n",
              "    [theme=dark] .colab-df-convert:hover {\n",
              "      background-color: #434B5C;\n",
              "      box-shadow: 0px 1px 3px 1px rgba(0, 0, 0, 0.15);\n",
              "      filter: drop-shadow(0px 1px 2px rgba(0, 0, 0, 0.3));\n",
              "      fill: #FFFFFF;\n",
              "    }\n",
              "  </style>\n",
              "\n",
              "    <script>\n",
              "      const buttonEl =\n",
              "        document.querySelector('#df-4d0b0758-1037-4787-8c78-76877487135e button.colab-df-convert');\n",
              "      buttonEl.style.display =\n",
              "        google.colab.kernel.accessAllowed ? 'block' : 'none';\n",
              "\n",
              "      async function convertToInteractive(key) {\n",
              "        const element = document.querySelector('#df-4d0b0758-1037-4787-8c78-76877487135e');\n",
              "        const dataTable =\n",
              "          await google.colab.kernel.invokeFunction('convertToInteractive',\n",
              "                                                    [key], {});\n",
              "        if (!dataTable) return;\n",
              "\n",
              "        const docLinkHtml = 'Like what you see? Visit the ' +\n",
              "          '<a target=\"_blank\" href=https://colab.research.google.com/notebooks/data_table.ipynb>data table notebook</a>'\n",
              "          + ' to learn more about interactive tables.';\n",
              "        element.innerHTML = '';\n",
              "        dataTable['output_type'] = 'display_data';\n",
              "        await google.colab.output.renderOutput(dataTable, element);\n",
              "        const docLink = document.createElement('div');\n",
              "        docLink.innerHTML = docLinkHtml;\n",
              "        element.appendChild(docLink);\n",
              "      }\n",
              "    </script>\n",
              "  </div>\n",
              "\n",
              "\n",
              "<div id=\"df-ac8c4ec5-dc4f-43ae-86f0-98fba9faaad4\">\n",
              "  <button class=\"colab-df-quickchart\" onclick=\"quickchart('df-ac8c4ec5-dc4f-43ae-86f0-98fba9faaad4')\"\n",
              "            title=\"Suggest charts\"\n",
              "            style=\"display:none;\">\n",
              "\n",
              "<svg xmlns=\"http://www.w3.org/2000/svg\" height=\"24px\"viewBox=\"0 0 24 24\"\n",
              "     width=\"24px\">\n",
              "    <g>\n",
              "        <path d=\"M19 3H5c-1.1 0-2 .9-2 2v14c0 1.1.9 2 2 2h14c1.1 0 2-.9 2-2V5c0-1.1-.9-2-2-2zM9 17H7v-7h2v7zm4 0h-2V7h2v10zm4 0h-2v-4h2v4z\"/>\n",
              "    </g>\n",
              "</svg>\n",
              "  </button>\n",
              "\n",
              "<style>\n",
              "  .colab-df-quickchart {\n",
              "      --bg-color: #E8F0FE;\n",
              "      --fill-color: #1967D2;\n",
              "      --hover-bg-color: #E2EBFA;\n",
              "      --hover-fill-color: #174EA6;\n",
              "      --disabled-fill-color: #AAA;\n",
              "      --disabled-bg-color: #DDD;\n",
              "  }\n",
              "\n",
              "  [theme=dark] .colab-df-quickchart {\n",
              "      --bg-color: #3B4455;\n",
              "      --fill-color: #D2E3FC;\n",
              "      --hover-bg-color: #434B5C;\n",
              "      --hover-fill-color: #FFFFFF;\n",
              "      --disabled-bg-color: #3B4455;\n",
              "      --disabled-fill-color: #666;\n",
              "  }\n",
              "\n",
              "  .colab-df-quickchart {\n",
              "    background-color: var(--bg-color);\n",
              "    border: none;\n",
              "    border-radius: 50%;\n",
              "    cursor: pointer;\n",
              "    display: none;\n",
              "    fill: var(--fill-color);\n",
              "    height: 32px;\n",
              "    padding: 0;\n",
              "    width: 32px;\n",
              "  }\n",
              "\n",
              "  .colab-df-quickchart:hover {\n",
              "    background-color: var(--hover-bg-color);\n",
              "    box-shadow: 0 1px 2px rgba(60, 64, 67, 0.3), 0 1px 3px 1px rgba(60, 64, 67, 0.15);\n",
              "    fill: var(--button-hover-fill-color);\n",
              "  }\n",
              "\n",
              "  .colab-df-quickchart-complete:disabled,\n",
              "  .colab-df-quickchart-complete:disabled:hover {\n",
              "    background-color: var(--disabled-bg-color);\n",
              "    fill: var(--disabled-fill-color);\n",
              "    box-shadow: none;\n",
              "  }\n",
              "\n",
              "  .colab-df-spinner {\n",
              "    border: 2px solid var(--fill-color);\n",
              "    border-color: transparent;\n",
              "    border-bottom-color: var(--fill-color);\n",
              "    animation:\n",
              "      spin 1s steps(1) infinite;\n",
              "  }\n",
              "\n",
              "  @keyframes spin {\n",
              "    0% {\n",
              "      border-color: transparent;\n",
              "      border-bottom-color: var(--fill-color);\n",
              "      border-left-color: var(--fill-color);\n",
              "    }\n",
              "    20% {\n",
              "      border-color: transparent;\n",
              "      border-left-color: var(--fill-color);\n",
              "      border-top-color: var(--fill-color);\n",
              "    }\n",
              "    30% {\n",
              "      border-color: transparent;\n",
              "      border-left-color: var(--fill-color);\n",
              "      border-top-color: var(--fill-color);\n",
              "      border-right-color: var(--fill-color);\n",
              "    }\n",
              "    40% {\n",
              "      border-color: transparent;\n",
              "      border-right-color: var(--fill-color);\n",
              "      border-top-color: var(--fill-color);\n",
              "    }\n",
              "    60% {\n",
              "      border-color: transparent;\n",
              "      border-right-color: var(--fill-color);\n",
              "    }\n",
              "    80% {\n",
              "      border-color: transparent;\n",
              "      border-right-color: var(--fill-color);\n",
              "      border-bottom-color: var(--fill-color);\n",
              "    }\n",
              "    90% {\n",
              "      border-color: transparent;\n",
              "      border-bottom-color: var(--fill-color);\n",
              "    }\n",
              "  }\n",
              "</style>\n",
              "\n",
              "  <script>\n",
              "    async function quickchart(key) {\n",
              "      const quickchartButtonEl =\n",
              "        document.querySelector('#' + key + ' button');\n",
              "      quickchartButtonEl.disabled = true;  // To prevent multiple clicks.\n",
              "      quickchartButtonEl.classList.add('colab-df-spinner');\n",
              "      try {\n",
              "        const charts = await google.colab.kernel.invokeFunction(\n",
              "            'suggestCharts', [key], {});\n",
              "      } catch (error) {\n",
              "        console.error('Error during call to suggestCharts:', error);\n",
              "      }\n",
              "      quickchartButtonEl.classList.remove('colab-df-spinner');\n",
              "      quickchartButtonEl.classList.add('colab-df-quickchart-complete');\n",
              "    }\n",
              "    (() => {\n",
              "      let quickchartButtonEl =\n",
              "        document.querySelector('#df-ac8c4ec5-dc4f-43ae-86f0-98fba9faaad4 button');\n",
              "      quickchartButtonEl.style.display =\n",
              "        google.colab.kernel.accessAllowed ? 'block' : 'none';\n",
              "    })();\n",
              "  </script>\n",
              "</div>\n",
              "\n",
              "    </div>\n",
              "  </div>\n"
            ],
            "text/plain": [
              "         V1        V2        V3        V4        V5        V6        V7  \\\n",
              "0  0.114697  0.796303 -0.149553 -0.823011  0.878763 -0.553152  0.939259   \n",
              "1 -0.039318  0.495784 -0.810884  0.546693  1.986257  4.386342 -1.344891   \n",
              "2  2.275706 -1.531508 -1.021969 -1.602152 -1.220329 -0.462376 -1.196485   \n",
              "3  1.940137 -0.357671 -1.210551  0.382523  0.050823 -0.171322 -0.109124   \n",
              "4  1.081395 -0.502615  1.075887 -0.543359 -1.472946 -1.065484 -0.443231   \n",
              "\n",
              "         V8        V9       V10  ...       V21       V22       V23       V24  \\\n",
              "0 -0.108502  0.111137 -0.390521  ... -0.335776 -0.807853 -0.055940 -1.025281   \n",
              "1 -1.743736 -0.563103 -0.616315  ... -1.377003 -0.072200 -0.197573  1.014807   \n",
              "2 -0.147058 -0.950224  1.560463  ... -0.193271 -0.103533  0.150945 -0.811083   \n",
              "3 -0.002115  0.869258 -0.001965  ...  0.157994  0.650355  0.034206  0.739535   \n",
              "4 -0.143374  1.659826 -1.131238  ...  0.224157  0.821209 -0.137223  0.986259   \n",
              "\n",
              "        V25       V26       V27       V28    V29  Target  \n",
              "0 -0.369557  0.204653  0.242724  0.085713   0.89       0  \n",
              "1  1.011293 -0.167684  0.113136  0.256836  85.00       0  \n",
              "2 -0.197913 -0.128446  0.014197 -0.051289  42.70       0  \n",
              "3  0.223605 -0.195509 -0.012791 -0.056841  29.99       0  \n",
              "4  0.563228 -0.574206  0.089673  0.052036  68.00       0  \n",
              "\n",
              "[5 rows x 30 columns]"
            ]
          },
          "execution_count": 3,
          "metadata": {},
          "output_type": "execute_result"
        }
      ],
      "source": [
        "data.head()"
      ]
    },
    {
      "cell_type": "code",
      "execution_count": null,
      "metadata": {
        "colab": {
          "base_uri": "https://localhost:8080/"
        },
        "id": "fyD5zsK0xnMe",
        "outputId": "6479d99f-f4c4-4216-b20b-499ab3454573"
      },
      "outputs": [
        {
          "data": {
            "text/plain": [
              "(56962, 30)"
            ]
          },
          "execution_count": 4,
          "metadata": {},
          "output_type": "execute_result"
        }
      ],
      "source": [
        "data.shape"
      ]
    },
    {
      "cell_type": "code",
      "execution_count": null,
      "metadata": {
        "colab": {
          "base_uri": "https://localhost:8080/"
        },
        "id": "54gZuNJYxniE",
        "outputId": "9216ac7e-0dec-45b0-a78c-1b494600227f"
      },
      "outputs": [
        {
          "data": {
            "text/plain": [
              "0    56864\n",
              "1       98\n",
              "Name: Target, dtype: int64"
            ]
          },
          "execution_count": 5,
          "metadata": {},
          "output_type": "execute_result"
        }
      ],
      "source": [
        "data.Target.value_counts()"
      ]
    },
    {
      "cell_type": "code",
      "execution_count": null,
      "metadata": {
        "id": "5ky1S556xnxV"
      },
      "outputs": [],
      "source": [
        "\n",
        "X = data.iloc[:,:-1]\n",
        "\n",
        "\n",
        "Y = data.iloc[:,-1]"
      ]
    },
    {
      "cell_type": "code",
      "execution_count": null,
      "metadata": {
        "colab": {
          "base_uri": "https://localhost:8080/",
          "height": 255
        },
        "id": "FM5mNCSwyzqO",
        "outputId": "3e9a7814-3a6e-4494-b646-a029a497b081"
      },
      "outputs": [
        {
          "data": {
            "text/html": [
              "\n",
              "  <div id=\"df-b5995c01-4f83-4b2a-974c-c43d7d12073f\" class=\"colab-df-container\">\n",
              "    <div>\n",
              "<style scoped>\n",
              "    .dataframe tbody tr th:only-of-type {\n",
              "        vertical-align: middle;\n",
              "    }\n",
              "\n",
              "    .dataframe tbody tr th {\n",
              "        vertical-align: top;\n",
              "    }\n",
              "\n",
              "    .dataframe thead th {\n",
              "        text-align: right;\n",
              "    }\n",
              "</style>\n",
              "<table border=\"1\" class=\"dataframe\">\n",
              "  <thead>\n",
              "    <tr style=\"text-align: right;\">\n",
              "      <th></th>\n",
              "      <th>V1</th>\n",
              "      <th>V2</th>\n",
              "      <th>V3</th>\n",
              "      <th>V4</th>\n",
              "      <th>V5</th>\n",
              "      <th>V6</th>\n",
              "      <th>V7</th>\n",
              "      <th>V8</th>\n",
              "      <th>V9</th>\n",
              "      <th>V10</th>\n",
              "      <th>...</th>\n",
              "      <th>V20</th>\n",
              "      <th>V21</th>\n",
              "      <th>V22</th>\n",
              "      <th>V23</th>\n",
              "      <th>V24</th>\n",
              "      <th>V25</th>\n",
              "      <th>V26</th>\n",
              "      <th>V27</th>\n",
              "      <th>V28</th>\n",
              "      <th>V29</th>\n",
              "    </tr>\n",
              "  </thead>\n",
              "  <tbody>\n",
              "    <tr>\n",
              "      <th>0</th>\n",
              "      <td>0.114697</td>\n",
              "      <td>0.796303</td>\n",
              "      <td>-0.149553</td>\n",
              "      <td>-0.823011</td>\n",
              "      <td>0.878763</td>\n",
              "      <td>-0.553152</td>\n",
              "      <td>0.939259</td>\n",
              "      <td>-0.108502</td>\n",
              "      <td>0.111137</td>\n",
              "      <td>-0.390521</td>\n",
              "      <td>...</td>\n",
              "      <td>-0.042711</td>\n",
              "      <td>-0.335776</td>\n",
              "      <td>-0.807853</td>\n",
              "      <td>-0.055940</td>\n",
              "      <td>-1.025281</td>\n",
              "      <td>-0.369557</td>\n",
              "      <td>0.204653</td>\n",
              "      <td>0.242724</td>\n",
              "      <td>0.085713</td>\n",
              "      <td>0.89</td>\n",
              "    </tr>\n",
              "    <tr>\n",
              "      <th>1</th>\n",
              "      <td>-0.039318</td>\n",
              "      <td>0.495784</td>\n",
              "      <td>-0.810884</td>\n",
              "      <td>0.546693</td>\n",
              "      <td>1.986257</td>\n",
              "      <td>4.386342</td>\n",
              "      <td>-1.344891</td>\n",
              "      <td>-1.743736</td>\n",
              "      <td>-0.563103</td>\n",
              "      <td>-0.616315</td>\n",
              "      <td>...</td>\n",
              "      <td>0.926255</td>\n",
              "      <td>-1.377003</td>\n",
              "      <td>-0.072200</td>\n",
              "      <td>-0.197573</td>\n",
              "      <td>1.014807</td>\n",
              "      <td>1.011293</td>\n",
              "      <td>-0.167684</td>\n",
              "      <td>0.113136</td>\n",
              "      <td>0.256836</td>\n",
              "      <td>85.00</td>\n",
              "    </tr>\n",
              "    <tr>\n",
              "      <th>2</th>\n",
              "      <td>2.275706</td>\n",
              "      <td>-1.531508</td>\n",
              "      <td>-1.021969</td>\n",
              "      <td>-1.602152</td>\n",
              "      <td>-1.220329</td>\n",
              "      <td>-0.462376</td>\n",
              "      <td>-1.196485</td>\n",
              "      <td>-0.147058</td>\n",
              "      <td>-0.950224</td>\n",
              "      <td>1.560463</td>\n",
              "      <td>...</td>\n",
              "      <td>-0.408289</td>\n",
              "      <td>-0.193271</td>\n",
              "      <td>-0.103533</td>\n",
              "      <td>0.150945</td>\n",
              "      <td>-0.811083</td>\n",
              "      <td>-0.197913</td>\n",
              "      <td>-0.128446</td>\n",
              "      <td>0.014197</td>\n",
              "      <td>-0.051289</td>\n",
              "      <td>42.70</td>\n",
              "    </tr>\n",
              "    <tr>\n",
              "      <th>3</th>\n",
              "      <td>1.940137</td>\n",
              "      <td>-0.357671</td>\n",
              "      <td>-1.210551</td>\n",
              "      <td>0.382523</td>\n",
              "      <td>0.050823</td>\n",
              "      <td>-0.171322</td>\n",
              "      <td>-0.109124</td>\n",
              "      <td>-0.002115</td>\n",
              "      <td>0.869258</td>\n",
              "      <td>-0.001965</td>\n",
              "      <td>...</td>\n",
              "      <td>-0.199280</td>\n",
              "      <td>0.157994</td>\n",
              "      <td>0.650355</td>\n",
              "      <td>0.034206</td>\n",
              "      <td>0.739535</td>\n",
              "      <td>0.223605</td>\n",
              "      <td>-0.195509</td>\n",
              "      <td>-0.012791</td>\n",
              "      <td>-0.056841</td>\n",
              "      <td>29.99</td>\n",
              "    </tr>\n",
              "    <tr>\n",
              "      <th>4</th>\n",
              "      <td>1.081395</td>\n",
              "      <td>-0.502615</td>\n",
              "      <td>1.075887</td>\n",
              "      <td>-0.543359</td>\n",
              "      <td>-1.472946</td>\n",
              "      <td>-1.065484</td>\n",
              "      <td>-0.443231</td>\n",
              "      <td>-0.143374</td>\n",
              "      <td>1.659826</td>\n",
              "      <td>-1.131238</td>\n",
              "      <td>...</td>\n",
              "      <td>0.059880</td>\n",
              "      <td>0.224157</td>\n",
              "      <td>0.821209</td>\n",
              "      <td>-0.137223</td>\n",
              "      <td>0.986259</td>\n",
              "      <td>0.563228</td>\n",
              "      <td>-0.574206</td>\n",
              "      <td>0.089673</td>\n",
              "      <td>0.052036</td>\n",
              "      <td>68.00</td>\n",
              "    </tr>\n",
              "  </tbody>\n",
              "</table>\n",
              "<p>5 rows × 29 columns</p>\n",
              "</div>\n",
              "    <div class=\"colab-df-buttons\">\n",
              "\n",
              "  <div class=\"colab-df-container\">\n",
              "    <button class=\"colab-df-convert\" onclick=\"convertToInteractive('df-b5995c01-4f83-4b2a-974c-c43d7d12073f')\"\n",
              "            title=\"Convert this dataframe to an interactive table.\"\n",
              "            style=\"display:none;\">\n",
              "\n",
              "  <svg xmlns=\"http://www.w3.org/2000/svg\" height=\"24px\" viewBox=\"0 -960 960 960\">\n",
              "    <path d=\"M120-120v-720h720v720H120Zm60-500h600v-160H180v160Zm220 220h160v-160H400v160Zm0 220h160v-160H400v160ZM180-400h160v-160H180v160Zm440 0h160v-160H620v160ZM180-180h160v-160H180v160Zm440 0h160v-160H620v160Z\"/>\n",
              "  </svg>\n",
              "    </button>\n",
              "\n",
              "  <style>\n",
              "    .colab-df-container {\n",
              "      display:flex;\n",
              "      gap: 12px;\n",
              "    }\n",
              "\n",
              "    .colab-df-convert {\n",
              "      background-color: #E8F0FE;\n",
              "      border: none;\n",
              "      border-radius: 50%;\n",
              "      cursor: pointer;\n",
              "      display: none;\n",
              "      fill: #1967D2;\n",
              "      height: 32px;\n",
              "      padding: 0 0 0 0;\n",
              "      width: 32px;\n",
              "    }\n",
              "\n",
              "    .colab-df-convert:hover {\n",
              "      background-color: #E2EBFA;\n",
              "      box-shadow: 0px 1px 2px rgba(60, 64, 67, 0.3), 0px 1px 3px 1px rgba(60, 64, 67, 0.15);\n",
              "      fill: #174EA6;\n",
              "    }\n",
              "\n",
              "    .colab-df-buttons div {\n",
              "      margin-bottom: 4px;\n",
              "    }\n",
              "\n",
              "    [theme=dark] .colab-df-convert {\n",
              "      background-color: #3B4455;\n",
              "      fill: #D2E3FC;\n",
              "    }\n",
              "\n",
              "    [theme=dark] .colab-df-convert:hover {\n",
              "      background-color: #434B5C;\n",
              "      box-shadow: 0px 1px 3px 1px rgba(0, 0, 0, 0.15);\n",
              "      filter: drop-shadow(0px 1px 2px rgba(0, 0, 0, 0.3));\n",
              "      fill: #FFFFFF;\n",
              "    }\n",
              "  </style>\n",
              "\n",
              "    <script>\n",
              "      const buttonEl =\n",
              "        document.querySelector('#df-b5995c01-4f83-4b2a-974c-c43d7d12073f button.colab-df-convert');\n",
              "      buttonEl.style.display =\n",
              "        google.colab.kernel.accessAllowed ? 'block' : 'none';\n",
              "\n",
              "      async function convertToInteractive(key) {\n",
              "        const element = document.querySelector('#df-b5995c01-4f83-4b2a-974c-c43d7d12073f');\n",
              "        const dataTable =\n",
              "          await google.colab.kernel.invokeFunction('convertToInteractive',\n",
              "                                                    [key], {});\n",
              "        if (!dataTable) return;\n",
              "\n",
              "        const docLinkHtml = 'Like what you see? Visit the ' +\n",
              "          '<a target=\"_blank\" href=https://colab.research.google.com/notebooks/data_table.ipynb>data table notebook</a>'\n",
              "          + ' to learn more about interactive tables.';\n",
              "        element.innerHTML = '';\n",
              "        dataTable['output_type'] = 'display_data';\n",
              "        await google.colab.output.renderOutput(dataTable, element);\n",
              "        const docLink = document.createElement('div');\n",
              "        docLink.innerHTML = docLinkHtml;\n",
              "        element.appendChild(docLink);\n",
              "      }\n",
              "    </script>\n",
              "  </div>\n",
              "\n",
              "\n",
              "<div id=\"df-06262e64-f525-4278-ae46-fc192eda9eb2\">\n",
              "  <button class=\"colab-df-quickchart\" onclick=\"quickchart('df-06262e64-f525-4278-ae46-fc192eda9eb2')\"\n",
              "            title=\"Suggest charts\"\n",
              "            style=\"display:none;\">\n",
              "\n",
              "<svg xmlns=\"http://www.w3.org/2000/svg\" height=\"24px\"viewBox=\"0 0 24 24\"\n",
              "     width=\"24px\">\n",
              "    <g>\n",
              "        <path d=\"M19 3H5c-1.1 0-2 .9-2 2v14c0 1.1.9 2 2 2h14c1.1 0 2-.9 2-2V5c0-1.1-.9-2-2-2zM9 17H7v-7h2v7zm4 0h-2V7h2v10zm4 0h-2v-4h2v4z\"/>\n",
              "    </g>\n",
              "</svg>\n",
              "  </button>\n",
              "\n",
              "<style>\n",
              "  .colab-df-quickchart {\n",
              "      --bg-color: #E8F0FE;\n",
              "      --fill-color: #1967D2;\n",
              "      --hover-bg-color: #E2EBFA;\n",
              "      --hover-fill-color: #174EA6;\n",
              "      --disabled-fill-color: #AAA;\n",
              "      --disabled-bg-color: #DDD;\n",
              "  }\n",
              "\n",
              "  [theme=dark] .colab-df-quickchart {\n",
              "      --bg-color: #3B4455;\n",
              "      --fill-color: #D2E3FC;\n",
              "      --hover-bg-color: #434B5C;\n",
              "      --hover-fill-color: #FFFFFF;\n",
              "      --disabled-bg-color: #3B4455;\n",
              "      --disabled-fill-color: #666;\n",
              "  }\n",
              "\n",
              "  .colab-df-quickchart {\n",
              "    background-color: var(--bg-color);\n",
              "    border: none;\n",
              "    border-radius: 50%;\n",
              "    cursor: pointer;\n",
              "    display: none;\n",
              "    fill: var(--fill-color);\n",
              "    height: 32px;\n",
              "    padding: 0;\n",
              "    width: 32px;\n",
              "  }\n",
              "\n",
              "  .colab-df-quickchart:hover {\n",
              "    background-color: var(--hover-bg-color);\n",
              "    box-shadow: 0 1px 2px rgba(60, 64, 67, 0.3), 0 1px 3px 1px rgba(60, 64, 67, 0.15);\n",
              "    fill: var(--button-hover-fill-color);\n",
              "  }\n",
              "\n",
              "  .colab-df-quickchart-complete:disabled,\n",
              "  .colab-df-quickchart-complete:disabled:hover {\n",
              "    background-color: var(--disabled-bg-color);\n",
              "    fill: var(--disabled-fill-color);\n",
              "    box-shadow: none;\n",
              "  }\n",
              "\n",
              "  .colab-df-spinner {\n",
              "    border: 2px solid var(--fill-color);\n",
              "    border-color: transparent;\n",
              "    border-bottom-color: var(--fill-color);\n",
              "    animation:\n",
              "      spin 1s steps(1) infinite;\n",
              "  }\n",
              "\n",
              "  @keyframes spin {\n",
              "    0% {\n",
              "      border-color: transparent;\n",
              "      border-bottom-color: var(--fill-color);\n",
              "      border-left-color: var(--fill-color);\n",
              "    }\n",
              "    20% {\n",
              "      border-color: transparent;\n",
              "      border-left-color: var(--fill-color);\n",
              "      border-top-color: var(--fill-color);\n",
              "    }\n",
              "    30% {\n",
              "      border-color: transparent;\n",
              "      border-left-color: var(--fill-color);\n",
              "      border-top-color: var(--fill-color);\n",
              "      border-right-color: var(--fill-color);\n",
              "    }\n",
              "    40% {\n",
              "      border-color: transparent;\n",
              "      border-right-color: var(--fill-color);\n",
              "      border-top-color: var(--fill-color);\n",
              "    }\n",
              "    60% {\n",
              "      border-color: transparent;\n",
              "      border-right-color: var(--fill-color);\n",
              "    }\n",
              "    80% {\n",
              "      border-color: transparent;\n",
              "      border-right-color: var(--fill-color);\n",
              "      border-bottom-color: var(--fill-color);\n",
              "    }\n",
              "    90% {\n",
              "      border-color: transparent;\n",
              "      border-bottom-color: var(--fill-color);\n",
              "    }\n",
              "  }\n",
              "</style>\n",
              "\n",
              "  <script>\n",
              "    async function quickchart(key) {\n",
              "      const quickchartButtonEl =\n",
              "        document.querySelector('#' + key + ' button');\n",
              "      quickchartButtonEl.disabled = true;  // To prevent multiple clicks.\n",
              "      quickchartButtonEl.classList.add('colab-df-spinner');\n",
              "      try {\n",
              "        const charts = await google.colab.kernel.invokeFunction(\n",
              "            'suggestCharts', [key], {});\n",
              "      } catch (error) {\n",
              "        console.error('Error during call to suggestCharts:', error);\n",
              "      }\n",
              "      quickchartButtonEl.classList.remove('colab-df-spinner');\n",
              "      quickchartButtonEl.classList.add('colab-df-quickchart-complete');\n",
              "    }\n",
              "    (() => {\n",
              "      let quickchartButtonEl =\n",
              "        document.querySelector('#df-06262e64-f525-4278-ae46-fc192eda9eb2 button');\n",
              "      quickchartButtonEl.style.display =\n",
              "        google.colab.kernel.accessAllowed ? 'block' : 'none';\n",
              "    })();\n",
              "  </script>\n",
              "</div>\n",
              "\n",
              "    </div>\n",
              "  </div>\n"
            ],
            "text/plain": [
              "         V1        V2        V3        V4        V5        V6        V7  \\\n",
              "0  0.114697  0.796303 -0.149553 -0.823011  0.878763 -0.553152  0.939259   \n",
              "1 -0.039318  0.495784 -0.810884  0.546693  1.986257  4.386342 -1.344891   \n",
              "2  2.275706 -1.531508 -1.021969 -1.602152 -1.220329 -0.462376 -1.196485   \n",
              "3  1.940137 -0.357671 -1.210551  0.382523  0.050823 -0.171322 -0.109124   \n",
              "4  1.081395 -0.502615  1.075887 -0.543359 -1.472946 -1.065484 -0.443231   \n",
              "\n",
              "         V8        V9       V10  ...       V20       V21       V22       V23  \\\n",
              "0 -0.108502  0.111137 -0.390521  ... -0.042711 -0.335776 -0.807853 -0.055940   \n",
              "1 -1.743736 -0.563103 -0.616315  ...  0.926255 -1.377003 -0.072200 -0.197573   \n",
              "2 -0.147058 -0.950224  1.560463  ... -0.408289 -0.193271 -0.103533  0.150945   \n",
              "3 -0.002115  0.869258 -0.001965  ... -0.199280  0.157994  0.650355  0.034206   \n",
              "4 -0.143374  1.659826 -1.131238  ...  0.059880  0.224157  0.821209 -0.137223   \n",
              "\n",
              "        V24       V25       V26       V27       V28    V29  \n",
              "0 -1.025281 -0.369557  0.204653  0.242724  0.085713   0.89  \n",
              "1  1.014807  1.011293 -0.167684  0.113136  0.256836  85.00  \n",
              "2 -0.811083 -0.197913 -0.128446  0.014197 -0.051289  42.70  \n",
              "3  0.739535  0.223605 -0.195509 -0.012791 -0.056841  29.99  \n",
              "4  0.986259  0.563228 -0.574206  0.089673  0.052036  68.00  \n",
              "\n",
              "[5 rows x 29 columns]"
            ]
          },
          "execution_count": 9,
          "metadata": {},
          "output_type": "execute_result"
        }
      ],
      "source": [
        "X.head()"
      ]
    },
    {
      "cell_type": "code",
      "execution_count": null,
      "metadata": {
        "colab": {
          "base_uri": "https://localhost:8080/"
        },
        "id": "27Xe40ICy7cv",
        "outputId": "e958bde3-3a8c-40db-ea56-d88f6af6911c"
      },
      "outputs": [
        {
          "data": {
            "text/plain": [
              "0    0\n",
              "1    0\n",
              "2    0\n",
              "3    0\n",
              "4    0\n",
              "Name: Target, dtype: int64"
            ]
          },
          "execution_count": 10,
          "metadata": {},
          "output_type": "execute_result"
        }
      ],
      "source": [
        "Y.head()"
      ]
    },
    {
      "cell_type": "code",
      "execution_count": null,
      "metadata": {
        "id": "8o8o0sfkxn78"
      },
      "outputs": [],
      "source": [
        "X_train, X_test, Y_train, Y_test = train_test_split(X, Y, test_size = 0.2, random_state = 0, stratify = Y)"
      ]
    },
    {
      "cell_type": "code",
      "execution_count": null,
      "metadata": {
        "colab": {
          "base_uri": "https://localhost:8080/"
        },
        "id": "Xs20wjOMxoGa",
        "outputId": "2d96975f-99f3-479d-a3dd-ea67d53ce31a"
      },
      "outputs": [
        {
          "name": "stdout",
          "output_type": "stream",
          "text": [
            "The shape of train dataset :\n",
            "(45569, 29)\n",
            "\n",
            " The shape of test dataset :\n",
            "(11393, 29)\n"
          ]
        }
      ],
      "source": [
        "print(\"The shape of train dataset :\")\n",
        "print(X_train.shape)\n",
        "\n",
        "print(\"\\n The shape of test dataset :\")\n",
        "print(X_test.shape)"
      ]
    },
    {
      "cell_type": "code",
      "execution_count": null,
      "metadata": {
        "colab": {
          "base_uri": "https://localhost:8080/"
        },
        "id": "7plakm8IxoiJ",
        "outputId": "a9880247-e58c-4678-e929-76c92e79bab0"
      },
      "outputs": [
        {
          "name": "stdout",
          "output_type": "stream",
          "text": [
            "Distribution of classes of dependent variable in train :\n",
            "0    45491\n",
            "1       78\n",
            "Name: Target, dtype: int64\n",
            "\n",
            " Distribution of classes of dependent variable in test :\n",
            "0    11373\n",
            "1       20\n",
            "Name: Target, dtype: int64\n"
          ]
        }
      ],
      "source": [
        "print(\"Distribution of classes of dependent variable in train :\")\n",
        "print(Y_train.value_counts())\n",
        "\n",
        "print(\"\\n Distribution of classes of dependent variable in test :\")\n",
        "print(Y_test.value_counts())"
      ]
    },
    {
      "cell_type": "code",
      "execution_count": null,
      "metadata": {
        "id": "e3bXB9zpzZDL"
      },
      "outputs": [],
      "source": [
        "import sklearn.ensemble\n",
        "classifier = sklearn.ensemble.RandomForestClassifier()"
      ]
    },
    {
      "cell_type": "code",
      "execution_count": null,
      "metadata": {
        "colab": {
          "base_uri": "https://localhost:8080/",
          "height": 118
        },
        "id": "EPMQp5OQxo1g",
        "outputId": "de86010d-fd3d-4cb3-afb5-e6e7d94fedc1"
      },
      "outputs": [
        {
          "data": {
            "text/html": [
              "<style>#sk-container-id-1 {color: black;background-color: white;}#sk-container-id-1 pre{padding: 0;}#sk-container-id-1 div.sk-toggleable {background-color: white;}#sk-container-id-1 label.sk-toggleable__label {cursor: pointer;display: block;width: 100%;margin-bottom: 0;padding: 0.3em;box-sizing: border-box;text-align: center;}#sk-container-id-1 label.sk-toggleable__label-arrow:before {content: \"▸\";float: left;margin-right: 0.25em;color: #696969;}#sk-container-id-1 label.sk-toggleable__label-arrow:hover:before {color: black;}#sk-container-id-1 div.sk-estimator:hover label.sk-toggleable__label-arrow:before {color: black;}#sk-container-id-1 div.sk-toggleable__content {max-height: 0;max-width: 0;overflow: hidden;text-align: left;background-color: #f0f8ff;}#sk-container-id-1 div.sk-toggleable__content pre {margin: 0.2em;color: black;border-radius: 0.25em;background-color: #f0f8ff;}#sk-container-id-1 input.sk-toggleable__control:checked~div.sk-toggleable__content {max-height: 200px;max-width: 100%;overflow: auto;}#sk-container-id-1 input.sk-toggleable__control:checked~label.sk-toggleable__label-arrow:before {content: \"▾\";}#sk-container-id-1 div.sk-estimator input.sk-toggleable__control:checked~label.sk-toggleable__label {background-color: #d4ebff;}#sk-container-id-1 div.sk-label input.sk-toggleable__control:checked~label.sk-toggleable__label {background-color: #d4ebff;}#sk-container-id-1 input.sk-hidden--visually {border: 0;clip: rect(1px 1px 1px 1px);clip: rect(1px, 1px, 1px, 1px);height: 1px;margin: -1px;overflow: hidden;padding: 0;position: absolute;width: 1px;}#sk-container-id-1 div.sk-estimator {font-family: monospace;background-color: #f0f8ff;border: 1px dotted black;border-radius: 0.25em;box-sizing: border-box;margin-bottom: 0.5em;}#sk-container-id-1 div.sk-estimator:hover {background-color: #d4ebff;}#sk-container-id-1 div.sk-parallel-item::after {content: \"\";width: 100%;border-bottom: 1px solid gray;flex-grow: 1;}#sk-container-id-1 div.sk-label:hover label.sk-toggleable__label {background-color: #d4ebff;}#sk-container-id-1 div.sk-serial::before {content: \"\";position: absolute;border-left: 1px solid gray;box-sizing: border-box;top: 0;bottom: 0;left: 50%;z-index: 0;}#sk-container-id-1 div.sk-serial {display: flex;flex-direction: column;align-items: center;background-color: white;padding-right: 0.2em;padding-left: 0.2em;position: relative;}#sk-container-id-1 div.sk-item {position: relative;z-index: 1;}#sk-container-id-1 div.sk-parallel {display: flex;align-items: stretch;justify-content: center;background-color: white;position: relative;}#sk-container-id-1 div.sk-item::before, #sk-container-id-1 div.sk-parallel-item::before {content: \"\";position: absolute;border-left: 1px solid gray;box-sizing: border-box;top: 0;bottom: 0;left: 50%;z-index: -1;}#sk-container-id-1 div.sk-parallel-item {display: flex;flex-direction: column;z-index: 1;position: relative;background-color: white;}#sk-container-id-1 div.sk-parallel-item:first-child::after {align-self: flex-end;width: 50%;}#sk-container-id-1 div.sk-parallel-item:last-child::after {align-self: flex-start;width: 50%;}#sk-container-id-1 div.sk-parallel-item:only-child::after {width: 0;}#sk-container-id-1 div.sk-dashed-wrapped {border: 1px dashed gray;margin: 0 0.4em 0.5em 0.4em;box-sizing: border-box;padding-bottom: 0.4em;background-color: white;}#sk-container-id-1 div.sk-label label {font-family: monospace;font-weight: bold;display: inline-block;line-height: 1.2em;}#sk-container-id-1 div.sk-label-container {text-align: center;}#sk-container-id-1 div.sk-container {/* jupyter's `normalize.less` sets `[hidden] { display: none; }` but bootstrap.min.css set `[hidden] { display: none !important; }` so we also need the `!important` here to be able to override the default hidden behavior on the sphinx rendered scikit-learn.org. See: https://github.com/scikit-learn/scikit-learn/issues/21755 */display: inline-block !important;position: relative;}#sk-container-id-1 div.sk-text-repr-fallback {display: none;}</style><div id=\"sk-container-id-1\" class=\"sk-top-container\"><div class=\"sk-text-repr-fallback\"><pre>GridSearchCV(cv=5, estimator=RandomForestClassifier(),\n",
              "             param_grid={&#x27;max_depth&#x27;: [3, 5, 7], &#x27;n_estimators&#x27;: [50, 80, 100]},\n",
              "             scoring=&#x27;roc_auc&#x27;)</pre><b>In a Jupyter environment, please rerun this cell to show the HTML representation or trust the notebook. <br />On GitHub, the HTML representation is unable to render, please try loading this page with nbviewer.org.</b></div><div class=\"sk-container\" hidden><div class=\"sk-item sk-dashed-wrapped\"><div class=\"sk-label-container\"><div class=\"sk-label sk-toggleable\"><input class=\"sk-toggleable__control sk-hidden--visually\" id=\"sk-estimator-id-1\" type=\"checkbox\" ><label for=\"sk-estimator-id-1\" class=\"sk-toggleable__label sk-toggleable__label-arrow\">GridSearchCV</label><div class=\"sk-toggleable__content\"><pre>GridSearchCV(cv=5, estimator=RandomForestClassifier(),\n",
              "             param_grid={&#x27;max_depth&#x27;: [3, 5, 7], &#x27;n_estimators&#x27;: [50, 80, 100]},\n",
              "             scoring=&#x27;roc_auc&#x27;)</pre></div></div></div><div class=\"sk-parallel\"><div class=\"sk-parallel-item\"><div class=\"sk-item\"><div class=\"sk-label-container\"><div class=\"sk-label sk-toggleable\"><input class=\"sk-toggleable__control sk-hidden--visually\" id=\"sk-estimator-id-2\" type=\"checkbox\" ><label for=\"sk-estimator-id-2\" class=\"sk-toggleable__label sk-toggleable__label-arrow\">estimator: RandomForestClassifier</label><div class=\"sk-toggleable__content\"><pre>RandomForestClassifier()</pre></div></div></div><div class=\"sk-serial\"><div class=\"sk-item\"><div class=\"sk-estimator sk-toggleable\"><input class=\"sk-toggleable__control sk-hidden--visually\" id=\"sk-estimator-id-3\" type=\"checkbox\" ><label for=\"sk-estimator-id-3\" class=\"sk-toggleable__label sk-toggleable__label-arrow\">RandomForestClassifier</label><div class=\"sk-toggleable__content\"><pre>RandomForestClassifier()</pre></div></div></div></div></div></div></div></div></div></div>"
            ],
            "text/plain": [
              "GridSearchCV(cv=5, estimator=RandomForestClassifier(),\n",
              "             param_grid={'max_depth': [3, 5, 7], 'n_estimators': [50, 80, 100]},\n",
              "             scoring='roc_auc')"
            ]
          },
          "execution_count": 18,
          "metadata": {},
          "output_type": "execute_result"
        }
      ],
      "source": [
        "\n",
        "grid_values = {'n_estimators':[50, 80,  100], 'max_depth':[3, 5, 7]}\n",
        "classifier = GridSearchCV(classifier, param_grid = grid_values, scoring = 'roc_auc', cv=5)\n",
        "\n",
        "# Fit the object to train dataset\n",
        "classifier.fit(X_train, Y_train)"
      ]
    },
    {
      "cell_type": "code",
      "execution_count": null,
      "metadata": {
        "id": "rOw-7nFpyVmI"
      },
      "outputs": [],
      "source": [
        "train_preds =  classifier.predict(X_train)\n",
        "test_preds  = classifier.predict(X_test)"
      ]
    },
    {
      "cell_type": "code",
      "execution_count": null,
      "metadata": {
        "colab": {
          "base_uri": "https://localhost:8080/"
        },
        "id": "C1oAhZk1yZJQ",
        "outputId": "0d16e5cc-da76-4336-911d-4331bc2a5c5a"
      },
      "outputs": [
        {
          "data": {
            "text/plain": [
              "0.9996269393666747"
            ]
          },
          "execution_count": 22,
          "metadata": {},
          "output_type": "execute_result"
        }
      ],
      "source": [
        "from sklearn.metrics import accuracy_score\n",
        "accuracy_score(Y_train, train_preds)"
      ]
    },
    {
      "cell_type": "code",
      "execution_count": null,
      "metadata": {
        "colab": {
          "base_uri": "https://localhost:8080/"
        },
        "id": "_AHQg8JgycGY",
        "outputId": "994f45ec-ba46-4bae-8068-d5c0f73614d7"
      },
      "outputs": [
        {
          "data": {
            "text/plain": [
              "0.9992978144474678"
            ]
          },
          "execution_count": 23,
          "metadata": {},
          "output_type": "execute_result"
        }
      ],
      "source": [
        "accuracy_score(Y_test,test_preds)"
      ]
    },
    {
      "cell_type": "code",
      "execution_count": null,
      "metadata": {
        "colab": {
          "base_uri": "https://localhost:8080/"
        },
        "id": "Ngrv98p_yh5F",
        "outputId": "a1daf236-061b-46f9-df2d-4c0a07d67993"
      },
      "outputs": [
        {
          "data": {
            "text/plain": [
              "0.891025641025641"
            ]
          },
          "execution_count": 24,
          "metadata": {},
          "output_type": "execute_result"
        }
      ],
      "source": [
        "from sklearn.metrics import roc_auc_score\n",
        "roc_auc_score(Y_train, train_preds)"
      ]
    },
    {
      "cell_type": "code",
      "execution_count": null,
      "metadata": {
        "colab": {
          "base_uri": "https://localhost:8080/"
        },
        "id": "f_-yE-KEynE0",
        "outputId": "b6c553ad-823b-4e45-e8ed-962902066425"
      },
      "outputs": [
        {
          "data": {
            "text/plain": [
              "0.8249560362261495"
            ]
          },
          "execution_count": 25,
          "metadata": {},
          "output_type": "execute_result"
        }
      ],
      "source": [
        "roc_auc_score(Y_test,test_preds)"
      ]
    },
    {
      "cell_type": "code",
      "execution_count": null,
      "metadata": {
        "colab": {
          "base_uri": "https://localhost:8080/"
        },
        "id": "F9lqq5sT2axF",
        "outputId": "dbd187e1-17cb-4eb3-eed9-f56607623d69"
      },
      "outputs": [
        {
          "data": {
            "text/plain": [
              "array([[45491,     0],\n",
              "       [   17,    61]])"
            ]
          },
          "execution_count": 27,
          "metadata": {},
          "output_type": "execute_result"
        }
      ],
      "source": [
        "from sklearn.metrics import confusion_matrix\n",
        "confusion_matrix(Y_train,train_preds)"
      ]
    },
    {
      "cell_type": "code",
      "execution_count": null,
      "metadata": {
        "colab": {
          "base_uri": "https://localhost:8080/"
        },
        "id": "fHWHKZP52a6q",
        "outputId": "dcc6d4e4-6158-4401-93d4-3a24b5199cc9"
      },
      "outputs": [
        {
          "data": {
            "text/plain": [
              "array([[11372,     1],\n",
              "       [    7,    13]])"
            ]
          },
          "execution_count": 28,
          "metadata": {},
          "output_type": "execute_result"
        }
      ],
      "source": [
        "confusion_matrix(Y_test,test_preds)"
      ]
    },
    {
      "cell_type": "code",
      "execution_count": null,
      "metadata": {
        "colab": {
          "background_save": true
        },
        "id": "YIvKXjTI2bPV",
        "outputId": "1a6abab3-64e4-49e1-db2d-b6cf8f08a4b4"
      },
      "outputs": [
        {
          "data": {
            "image/png": "[encoded data removed]",
            "text/plain": [
              "<Figure size 1000x600 with 1 Axes>"
            ]
          },
          "metadata": {},
          "output_type": "display_data"
        }
      ],
      "source": [
        "from sklearn.model_selection import GridSearchCV\n",
        "from sklearn.ensemble import RandomForestClassifier\n",
        "\n",
        "# Assuming you've defined your parameter grid\n",
        "param_grid = {'n_estimators': [50, 100, 200], 'max_depth': [None, 10, 20]}\n",
        "\n",
        "# Assuming 'X_train' and 'Y_train' are your training data and labels\n",
        "grid_search = GridSearchCV(RandomForestClassifier(), param_grid, cv=5)\n",
        "grid_search.fit(X_train, Y_train)\n",
        "\n",
        "# Accessing the best estimator\n",
        "best_classifier = grid_search.best_estimator_\n",
        "\n",
        "# Assuming 'X_train' is your training data\n",
        "features = X_train.columns\n",
        "importances = best_classifier.feature_importances_\n",
        "indices = np.argsort(importances)\n",
        "\n",
        "# Plotting feature importances\n",
        "plt.figure(figsize=(10, 6))\n",
        "plt.barh(range(len(indices)), importances[indices], color='red', align='center')\n",
        "plt.yticks(range(len(indices)), [features[i] for i in indices])\n",
        "plt.xlabel('Relative Importance')\n",
        "plt.title('Feature Importance')\n",
        "plt.show()\n",
        "\n"
      ]
    }
  ],
  "metadata": {
    "colab": {
      "provenance": []
    },
    "kernelspec": {
      "display_name": "Python 3",
      "name": "python3"
    },
    "language_info": {
      "name": "python"
    }
  },
  "nbformat": 4,
  "nbformat_minor": 0
}